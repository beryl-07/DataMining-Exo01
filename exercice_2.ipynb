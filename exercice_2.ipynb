{
 "cells": [
  {
   "metadata": {},
   "cell_type": "markdown",
   "source": "### Exercice 2",
   "id": "25aa5b82cd92e5ff"
  },
  {
   "metadata": {
    "ExecuteTime": {
     "end_time": "2025-03-26T05:20:21.854231Z",
     "start_time": "2025-03-26T05:20:21.836225Z"
    }
   },
   "cell_type": "code",
   "source": "import pandas as pd",
   "id": "7f27e950f356751f",
   "outputs": [],
   "execution_count": 12
  },
  {
   "metadata": {},
   "cell_type": "markdown",
   "source": "1. Chargez deux datasets(csv) et affichez leur taille respective.\n",
   "id": "f74f251606ef11f1"
  },
  {
   "metadata": {
    "ExecuteTime": {
     "end_time": "2025-03-26T05:20:21.962807Z",
     "start_time": "2025-03-26T05:20:21.934704Z"
    }
   },
   "cell_type": "code",
   "source": [
    "coffee_sales = pd.read_csv('./data/exercice_2/DatasetForCoffeeSales2.csv')\n",
    "saudi_cities_geocodes = pd.read_csv('./data/exercice_2/saudi_cities_geocoding.csv')\n",
    "\n",
    "print(f\"Taille de coffee_sales: {coffee_sales.shape}\\nTaille de saudi_cities_geocodes: {saudi_cities_geocodes.shape}\")"
   ],
   "id": "ffcafccb82125cc1",
   "outputs": [
    {
     "name": "stdout",
     "output_type": "stream",
     "text": [
      "Taille de coffee_sales: (730, 11)\n",
      "Taille de saudi_cities_geocodes: (10, 3)\n"
     ]
    }
   ],
   "execution_count": 13
  },
  {
   "metadata": {},
   "cell_type": "markdown",
   "source": "2. Effectuez une jointure sur une colonne commune.",
   "id": "925cf73a08e27e4b"
  },
  {
   "metadata": {
    "ExecuteTime": {
     "end_time": "2025-03-26T05:20:22.013072Z",
     "start_time": "2025-03-26T05:20:22.001658Z"
    }
   },
   "cell_type": "code",
   "source": [
    "merged_ds = pd.merge(coffee_sales, saudi_cities_geocodes, on='City')\n",
    "print(merged_ds.dtypes)"
   ],
   "id": "89dec2dd271eb5a7",
   "outputs": [
    {
     "name": "stdout",
     "output_type": "stream",
     "text": [
      "Date                object\n",
      "Customer_ID          int64\n",
      "City                object\n",
      "Category            object\n",
      "Product             object\n",
      "Unit Price           int64\n",
      "Quantity             int64\n",
      "Sales Amount         int64\n",
      "Used_Discount         bool\n",
      "Discount_Amount      int64\n",
      "Final Sales          int64\n",
      "Latitude           float64\n",
      "Longitude          float64\n",
      "dtype: object\n"
     ]
    }
   ],
   "execution_count": 14
  },
  {
   "metadata": {},
   "cell_type": "markdown",
   "source": "3. Ajoutez de nouvelles colonnes à un dataset en fusionnant les informations d’un second",
   "id": "a270900c61e9c1fb"
  },
  {
   "metadata": {
    "ExecuteTime": {
     "end_time": "2025-03-26T05:20:22.123803Z",
     "start_time": "2025-03-26T05:20:22.102835Z"
    }
   },
   "cell_type": "code",
   "source": [
    "coffee_sales = pd.merge(coffee_sales, saudi_cities_geocodes, on='City')\n",
    "coffee_sales['Geo_Position'] = list(zip(coffee_sales['Latitude'], coffee_sales['Longitude']))\n",
    "coffee_sales.drop(columns=['Latitude', 'Longitude'], inplace=True)\n",
    "print(coffee_sales.sample(5))"
   ],
   "id": "49c59bd34777c2ef",
   "outputs": [
    {
     "name": "stdout",
     "output_type": "stream",
     "text": [
      "           Date  Customer_ID    City      Category     Product  Unit Price  \\\n",
      "467   4/12/2024           83    Abha  coffee beans  Costa Rica          35   \n",
      "580    8/3/2024            4    Hail  coffee beans  Costa Rica          35   \n",
      "570   7/24/2024           31  Medina  coffee beans   Colombian          40   \n",
      "710  12/11/2024           23  Khobar  coffee beans  Costa Rica          35   \n",
      "221   8/10/2023            8    Abha  coffee beans   Guatemala          35   \n",
      "\n",
      "     Quantity  Sales Amount  Used_Discount  Discount_Amount  Final Sales  \\\n",
      "467        18           630          False                0          630   \n",
      "580        28           980           True              196          784   \n",
      "570        24           960           True              192          768   \n",
      "710        17           595           True              119          476   \n",
      "221        23           805           True              161          644   \n",
      "\n",
      "           Geo_Position  \n",
      "467  (18.2465, 42.5117)  \n",
      "580  (27.5114, 41.7208)  \n",
      "570  (24.5247, 39.5692)  \n",
      "710  (26.2172, 50.1971)  \n",
      "221  (18.2465, 42.5117)  \n"
     ]
    }
   ],
   "execution_count": 15
  }
 ],
 "metadata": {
  "kernelspec": {
   "name": "python3",
   "language": "python",
   "display_name": "Python 3 (ipykernel)"
  }
 },
 "nbformat": 5,
 "nbformat_minor": 9
}
