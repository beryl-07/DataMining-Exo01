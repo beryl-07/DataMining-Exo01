{
 "cells": [
  {
   "metadata": {},
   "cell_type": "markdown",
   "source": "## Travaux pratique 1\n",
   "id": "8a77807f92f26ee"
  },
  {
   "metadata": {},
   "cell_type": "markdown",
   "source": "### Exercice 1",
   "id": "f443a235abe4753e"
  },
  {
   "metadata": {
    "ExecuteTime": {
     "end_time": "2025-03-26T05:19:58.378264Z",
     "start_time": "2025-03-26T05:19:56.405332Z"
    }
   },
   "cell_type": "code",
   "source": [
    "import pandas as pd\n",
    "import matplotlib.pyplot as plt\n",
    "from sklearn.preprocessing import MinMaxScaler"
   ],
   "id": "5edaa28edf06d941",
   "outputs": [],
   "execution_count": 3
  },
  {
   "metadata": {},
   "cell_type": "markdown",
   "source": "1. Chargeons le dataset avec pandas.",
   "id": "51d05a2fb1a8052c"
  },
  {
   "metadata": {
    "ExecuteTime": {
     "end_time": "2025-03-26T05:19:58.541567Z",
     "start_time": "2025-03-26T05:19:58.389389Z"
    }
   },
   "cell_type": "code",
   "source": "salaries_ds = pd.read_csv('./data/exercice_1/salaries.csv')",
   "id": "fbc121e30a2defb3",
   "outputs": [],
   "execution_count": 4
  },
  {
   "metadata": {},
   "cell_type": "markdown",
   "source": "2. Affichez le nombre de lignes et de colonnes.",
   "id": "ce50b1f37b076995"
  },
  {
   "metadata": {
    "ExecuteTime": {
     "end_time": "2025-03-26T05:19:58.574362Z",
     "start_time": "2025-03-26T05:19:58.569659Z"
    }
   },
   "cell_type": "code",
   "source": "print(f\"Nombre de lignes: {salaries_ds.shape[0]}\\nNombre de colonnes: {salaries_ds.shape[1]}\")",
   "id": "c14831bfda70772e",
   "outputs": [
    {
     "name": "stdout",
     "output_type": "stream",
     "text": [
      "Nombre de lignes: 88584\n",
      "Nombre de colonnes: 11\n"
     ]
    }
   ],
   "execution_count": 5
  },
  {
   "metadata": {},
   "cell_type": "markdown",
   "source": "3. Affichez un échantillon de 10 lignes du dataset.",
   "id": "39bdb907d9a2b365"
  },
  {
   "metadata": {
    "ExecuteTime": {
     "end_time": "2025-03-26T05:19:58.642117Z",
     "start_time": "2025-03-26T05:19:58.623210Z"
    }
   },
   "cell_type": "code",
   "source": "print(salaries_ds.sample(10))",
   "id": "4d5e82426bf55e8d",
   "outputs": [
    {
     "name": "stdout",
     "output_type": "stream",
     "text": [
      "       work_year experience_level employment_type          job_title  \\\n",
      "58751     2024.0               SE              FT       Data Analyst   \n",
      "20094     2024.0               EN              FT           Engineer   \n",
      "42276     2024.0               MI              FT           Engineer   \n",
      "32948     2024.0               MI              FT           Engineer   \n",
      "86121     2023.0               SE              FT      Data Engineer   \n",
      "66809     2024.0               MI              FT     Data Scientist   \n",
      "80673     2023.0               SE              FT      Data Engineer   \n",
      "12711     2025.0               SE              FT      Data Engineer   \n",
      "4146      2025.0               SE              FT  Software Engineer   \n",
      "19163     2024.0               SE              FT            Manager   \n",
      "\n",
      "         salary salary_currency  salary_in_usd employee_residence  \\\n",
      "58751  139650.0             USD       139650.0                 US   \n",
      "20094  250600.0             USD       250600.0                 US   \n",
      "42276  125000.0             USD       125000.0                 US   \n",
      "32948  100000.0             USD       100000.0                 US   \n",
      "86121   63000.0             USD        63000.0                 US   \n",
      "66809  119200.0             USD       119200.0                 US   \n",
      "80673  190000.0             USD       190000.0                 US   \n",
      "12711  140000.0             USD       140000.0                 US   \n",
      "4146   140230.0             USD       140230.0                 US   \n",
      "19163  125000.0             USD       125000.0                 US   \n",
      "\n",
      "       remote_ratio company_location company_size  \n",
      "58751           0.0               US            M  \n",
      "20094           0.0               US            M  \n",
      "42276           0.0               US            M  \n",
      "32948           0.0               US            M  \n",
      "86121         100.0               US            M  \n",
      "66809         100.0               US            M  \n",
      "80673           0.0               US            M  \n",
      "12711           0.0               US            M  \n",
      "4146            0.0               US            M  \n",
      "19163         100.0               US            M  \n"
     ]
    }
   ],
   "execution_count": 6
  },
  {
   "metadata": {},
   "cell_type": "markdown",
   "source": "4. Listez les noms des colonnes et leurs types de données.",
   "id": "841c2c02133f6edb"
  },
  {
   "metadata": {
    "ExecuteTime": {
     "end_time": "2025-03-26T05:19:58.752613Z",
     "start_time": "2025-03-26T05:19:58.732629Z"
    }
   },
   "cell_type": "code",
   "source": "print(salaries_ds.dtypes)",
   "id": "7ef20d3d7fb444fa",
   "outputs": [
    {
     "name": "stdout",
     "output_type": "stream",
     "text": [
      "work_year             float64\n",
      "experience_level       object\n",
      "employment_type        object\n",
      "job_title              object\n",
      "salary                float64\n",
      "salary_currency        object\n",
      "salary_in_usd         float64\n",
      "employee_residence     object\n",
      "remote_ratio          float64\n",
      "company_location       object\n",
      "company_size           object\n",
      "dtype: object\n"
     ]
    }
   ],
   "execution_count": 7
  },
  {
   "metadata": {},
   "cell_type": "markdown",
   "source": "5. Affichez un résumé statistique des colonnes numériques.",
   "id": "645ef82ffa9aae83"
  },
  {
   "metadata": {
    "ExecuteTime": {
     "end_time": "2025-03-26T05:19:58.876408Z",
     "start_time": "2025-03-26T05:19:58.815821Z"
    }
   },
   "cell_type": "code",
   "source": "print(salaries_ds.describe())",
   "id": "cce731a811911387",
   "outputs": [
    {
     "name": "stdout",
     "output_type": "stream",
     "text": [
      "          work_year        salary  salary_in_usd  remote_ratio\n",
      "count  88583.000000  8.858200e+04   88576.000000  88582.000000\n",
      "mean    2024.034747  1.619328e+05  157567.123453     21.285363\n",
      "std        0.620365  1.965339e+05   73528.449424     40.830559\n",
      "min     2020.000000  1.400000e+04   15000.000000      0.000000\n",
      "25%     2024.000000  1.060000e+05  106100.000000      0.000000\n",
      "50%     2024.000000  1.470000e+05  146307.000000      0.000000\n",
      "75%     2024.000000  1.995000e+05  198600.000000      0.000000\n",
      "max     2025.000000  3.040000e+07  800000.000000    100.000000\n"
     ]
    }
   ],
   "execution_count": 8
  },
  {
   "metadata": {},
   "cell_type": "markdown",
   "source": "6. Identifiez les colonnes qui contiennent des valeurs manquantes.\n",
   "id": "ffbcc98767adfff"
  },
  {
   "metadata": {
    "ExecuteTime": {
     "end_time": "2025-03-26T05:19:59.015697Z",
     "start_time": "2025-03-26T05:19:58.946898Z"
    }
   },
   "cell_type": "code",
   "source": "print(salaries_ds.isnull().sum())",
   "id": "e702109d4d98b022",
   "outputs": [
    {
     "name": "stdout",
     "output_type": "stream",
     "text": [
      "work_year              1\n",
      "experience_level       1\n",
      "employment_type        3\n",
      "job_title             10\n",
      "salary                 2\n",
      "salary_currency        1\n",
      "salary_in_usd          8\n",
      "employee_residence     2\n",
      "remote_ratio           2\n",
      "company_location       2\n",
      "company_size           1\n",
      "dtype: int64\n"
     ]
    }
   ],
   "execution_count": 9
  },
  {
   "metadata": {},
   "cell_type": "markdown",
   "source": "7. Calculez le pourcentage de valeurs manquantes par colonne.",
   "id": "9c45b46744c531d4"
  },
  {
   "metadata": {
    "ExecuteTime": {
     "end_time": "2025-03-26T05:19:59.104322Z",
     "start_time": "2025-03-26T05:19:59.050958Z"
    }
   },
   "cell_type": "code",
   "source": "print(salaries_ds.isnull().mean() * 100)",
   "id": "a66d238f85d9b6de",
   "outputs": [
    {
     "name": "stdout",
     "output_type": "stream",
     "text": [
      "work_year             0.001129\n",
      "experience_level      0.001129\n",
      "employment_type       0.003387\n",
      "job_title             0.011289\n",
      "salary                0.002258\n",
      "salary_currency       0.001129\n",
      "salary_in_usd         0.009031\n",
      "employee_residence    0.002258\n",
      "remote_ratio          0.002258\n",
      "company_location      0.002258\n",
      "company_size          0.001129\n",
      "dtype: float64\n"
     ]
    }
   ],
   "execution_count": 10
  },
  {
   "metadata": {},
   "cell_type": "markdown",
   "source": "8. Supprimez les colonnes ayant plus de 50% de valeurs manquantes.",
   "id": "6bdfe7fb68293f05"
  },
  {
   "metadata": {
    "ExecuteTime": {
     "end_time": "2025-03-26T05:19:59.260828Z",
     "start_time": "2025-03-26T05:19:59.194793Z"
    }
   },
   "cell_type": "code",
   "source": [
    "salaries_ds = salaries_ds.loc[:, salaries_ds.isnull().mean() < .5]\n",
    "print(salaries_ds.head())"
   ],
   "id": "e00778ba82e837d3",
   "outputs": [
    {
     "name": "stdout",
     "output_type": "stream",
     "text": [
      "   work_year experience_level employment_type                 job_title  \\\n",
      "0     2025.0               MI              FT  Customer Success Manager   \n",
      "1     2025.0               SE              FT                  Engineer   \n",
      "2     2025.0               SE              FT                  Engineer   \n",
      "3     2025.0               SE              FT         Applied Scientist   \n",
      "4     2025.0               SE              FT         Applied Scientist   \n",
      "\n",
      "     salary salary_currency  salary_in_usd employee_residence  remote_ratio  \\\n",
      "0   57000.0             EUR        60000.0                 NL          50.0   \n",
      "1  165000.0             USD       165000.0                 US           0.0   \n",
      "2  109000.0             USD       109000.0                 US           0.0   \n",
      "3  294000.0             USD       294000.0                 US           0.0   \n",
      "4  137600.0             USD       137600.0                 US           0.0   \n",
      "\n",
      "  company_location company_size  \n",
      "0               NL            L  \n",
      "1               US            M  \n",
      "2               US            M  \n",
      "3               US            M  \n",
      "4               US            M  \n"
     ]
    }
   ],
   "execution_count": 11
  },
  {
   "metadata": {},
   "cell_type": "markdown",
   "source": "9. Remplacez les valeurs manquantes des colonnes numériques par leur médiane.",
   "id": "791c0f101b98ce73"
  },
  {
   "metadata": {
    "ExecuteTime": {
     "end_time": "2025-03-26T05:19:59.383803Z",
     "start_time": "2025-03-26T05:19:59.298973Z"
    }
   },
   "cell_type": "code",
   "source": [
    "numeric_cols = salaries_ds.select_dtypes(include=['int64', 'float64']).columns\n",
    "salaries_ds[numeric_cols] = salaries_ds[numeric_cols].fillna(salaries_ds[numeric_cols].median())\n",
    "print(salaries_ds.isnull().sum())"
   ],
   "id": "b4c8f5ec334956ce",
   "outputs": [
    {
     "name": "stdout",
     "output_type": "stream",
     "text": [
      "work_year              0\n",
      "experience_level       1\n",
      "employment_type        3\n",
      "job_title             10\n",
      "salary                 0\n",
      "salary_currency        1\n",
      "salary_in_usd          0\n",
      "employee_residence     2\n",
      "remote_ratio           0\n",
      "company_location       2\n",
      "company_size           1\n",
      "dtype: int64\n"
     ]
    }
   ],
   "execution_count": 12
  },
  {
   "metadata": {},
   "cell_type": "markdown",
   "source": "10. Remplacez les valeurs manquantes des colonnes catégorielles par la modalité la plus",
   "id": "ed77fb344d11dc9b"
  },
  {
   "metadata": {
    "ExecuteTime": {
     "end_time": "2025-03-26T05:19:59.667918Z",
     "start_time": "2025-03-26T05:19:59.413603Z"
    }
   },
   "cell_type": "code",
   "source": [
    "categorical_cols = salaries_ds.select_dtypes(include=['object']).columns\n",
    "salaries_ds[categorical_cols] = salaries_ds[categorical_cols].fillna(salaries_ds[categorical_cols].mode().iloc[0])\n",
    "print(salaries_ds.isnull().sum())"
   ],
   "id": "74c699bee0bc4993",
   "outputs": [
    {
     "name": "stdout",
     "output_type": "stream",
     "text": [
      "work_year             0\n",
      "experience_level      0\n",
      "employment_type       0\n",
      "job_title             0\n",
      "salary                0\n",
      "salary_currency       0\n",
      "salary_in_usd         0\n",
      "employee_residence    0\n",
      "remote_ratio          0\n",
      "company_location      0\n",
      "company_size          0\n",
      "dtype: int64\n"
     ]
    }
   ],
   "execution_count": 13
  },
  {
   "metadata": {},
   "cell_type": "markdown",
   "source": "11. Détectez le nombre de lignes dupliquées.",
   "id": "b2f8134abc05beed"
  },
  {
   "metadata": {
    "ExecuteTime": {
     "end_time": "2025-03-26T05:19:59.829971Z",
     "start_time": "2025-03-26T05:19:59.743294Z"
    }
   },
   "cell_type": "code",
   "source": "print(salaries_ds.duplicated().sum())",
   "id": "42fc5b29d16e82f7",
   "outputs": [
    {
     "name": "stdout",
     "output_type": "stream",
     "text": [
      "44335\n"
     ]
    }
   ],
   "execution_count": 14
  },
  {
   "metadata": {},
   "cell_type": "markdown",
   "source": "12. Supprimez les doublons et affichez la nouvelle dimension du dataset.\n",
   "id": "603ae349365c8dfd"
  },
  {
   "metadata": {
    "ExecuteTime": {
     "end_time": "2025-03-26T05:20:00.005573Z",
     "start_time": "2025-03-26T05:19:59.902010Z"
    }
   },
   "cell_type": "code",
   "source": [
    "salaries_ds.drop_duplicates(inplace=True)\n",
    "print(salaries_ds.shape)"
   ],
   "id": "cde60ac21f26b423",
   "outputs": [
    {
     "name": "stdout",
     "output_type": "stream",
     "text": [
      "(44249, 11)\n"
     ]
    }
   ],
   "execution_count": 15
  },
  {
   "metadata": {},
   "cell_type": "markdown",
   "source": "13. Affichez un boxplot pour visualiser les outliers d’une colonne numérique.",
   "id": "1fdf3fece1658e5d"
  },
  {
   "metadata": {
    "ExecuteTime": {
     "end_time": "2025-03-26T05:20:00.375583Z",
     "start_time": "2025-03-26T05:20:00.036302Z"
    }
   },
   "cell_type": "code",
   "source": [
    "salaries_ds.boxplot(column='salary')\n",
    "plt.show()"
   ],
   "id": "69831abc36b8ee68",
   "outputs": [
    {
     "data": {
      "text/plain": [
       "<Figure size 640x480 with 1 Axes>"
      ],
      "image/png": "[encoded data removed]"
     },
     "metadata": {},
     "output_type": "display_data"
    }
   ],
   "execution_count": 16
  },
  {
   "metadata": {},
   "cell_type": "markdown",
   "source": "14. Utilisez la méthode de l’IQR pour identifier les outliers.",
   "id": "fafc9d6c454dfffb"
  },
  {
   "metadata": {
    "ExecuteTime": {
     "end_time": "2025-03-26T05:20:00.451116Z",
     "start_time": "2025-03-26T05:20:00.414437Z"
    }
   },
   "cell_type": "code",
   "source": [
    "Q1 = salaries_ds['salary'].quantile(0.25)\n",
    "Q3 = salaries_ds['salary'].quantile(0.75)\n",
    "IQR = Q3 - Q1\n",
    "outliers = (salaries_ds['salary'] < (Q1 - 1.5 * IQR)) | (salaries_ds['salary'] > (Q3 + 1.5 * IQR))\n",
    "print(salaries_ds[outliers])"
   ],
   "id": "62384969dd13d2bf",
   "outputs": [
    {
     "name": "stdout",
     "output_type": "stream",
     "text": [
      "       work_year experience_level employment_type  \\\n",
      "30        2025.0               EN              FT   \n",
      "190       2025.0               SE              FT   \n",
      "264       2025.0               SE              FT   \n",
      "342       2025.0               SE              FT   \n",
      "394       2025.0               SE              FT   \n",
      "...          ...              ...             ...   \n",
      "88559     2021.0               EN              FT   \n",
      "88564     2021.0               MI              FT   \n",
      "88576     2021.0               MI              FT   \n",
      "88579     2020.0               SE              FT   \n",
      "88583     2021.0               SE              FT   \n",
      "\n",
      "                                job_title     salary salary_currency  \\\n",
      "30                     Research Scientist   358000.0             USD   \n",
      "190                              Engineer   600593.0             USD   \n",
      "264                              Engineer   431250.0             USD   \n",
      "342                     Software Engineer   384200.0             USD   \n",
      "394             Machine Learning Engineer   355000.0             USD   \n",
      "...                                   ...        ...             ...   \n",
      "88559                        AI Scientist  1335000.0             INR   \n",
      "88564                   Lead Data Analyst  1450000.0             INR   \n",
      "88576  Applied Machine Learning Scientist   423000.0             USD   \n",
      "88579                      Data Scientist   412000.0             USD   \n",
      "88583                      Data Scientist  7000000.0             INR   \n",
      "\n",
      "       salary_in_usd employee_residence  remote_ratio company_location  \\\n",
      "30          358000.0                 US           0.0               US   \n",
      "190         600593.0                 US           0.0               US   \n",
      "264         431250.0                 US         100.0               US   \n",
      "342         384200.0                 US           0.0               US   \n",
      "394         355000.0                 US           0.0               US   \n",
      "...              ...                ...           ...              ...   \n",
      "88559        18053.0                 IN         100.0               AS   \n",
      "88564        19609.0                 IN         100.0               IN   \n",
      "88576       423000.0                 US          50.0               US   \n",
      "88579       412000.0                 US         100.0               US   \n",
      "88583        94665.0                 IN          50.0               IN   \n",
      "\n",
      "      company_size  \n",
      "30               M  \n",
      "190              M  \n",
      "264              M  \n",
      "342              M  \n",
      "394              M  \n",
      "...            ...  \n",
      "88559            S  \n",
      "88564            L  \n",
      "88576            L  \n",
      "88579            L  \n",
      "88583            L  \n",
      "\n",
      "[1125 rows x 11 columns]\n"
     ]
    }
   ],
   "execution_count": 17
  },
  {
   "metadata": {},
   "cell_type": "markdown",
   "source": "15. Supprimez les valeurs aberrantes détectées.",
   "id": "696a4574cdd159f4"
  },
  {
   "metadata": {
    "ExecuteTime": {
     "end_time": "2025-03-26T05:20:00.506550Z",
     "start_time": "2025-03-26T05:20:00.486094Z"
    }
   },
   "cell_type": "code",
   "source": [
    "salaries_ds = salaries_ds[~outliers]\n",
    "print(salaries_ds.shape)"
   ],
   "id": "1ed74c4a13bd2a2c",
   "outputs": [
    {
     "name": "stdout",
     "output_type": "stream",
     "text": [
      "(43124, 11)\n"
     ]
    }
   ],
   "execution_count": 18
  },
  {
   "metadata": {},
   "cell_type": "markdown",
   "source": "16. Convertissez une colonne date en type datetime et extrayez l’année, le mois et le jour.",
   "id": "67b16a7d2fbef5cc"
  },
  {
   "metadata": {
    "ExecuteTime": {
     "end_time": "2025-03-26T05:20:00.550174Z",
     "start_time": "2025-03-26T05:20:00.545186Z"
    }
   },
   "cell_type": "code",
   "source": [
    "# Le dataset ne contient pas de colonne date, mais je procéderai de cette manière si la colonne hire_date était présente\n",
    "# salaries_ds['hire_date'] = pd.to_datetime(salaries_ds['hire_date'])\n",
    "# salaries_ds['year'] = salaries_ds['hire_date'].dt.year\n",
    "# salaries_ds['month'] = salaries_ds['hire_date'].dt.month\n",
    "# salaries_ds['day'] = salaries_ds['hire_date'].dt.day\n",
    "# print(salaries_ds.head())"
   ],
   "id": "d6ba7f66e7a5263c",
   "outputs": [],
   "execution_count": 19
  },
  {
   "metadata": {},
   "cell_type": "markdown",
   "source": "17. Effectuez un one-hot encoding sur une colonne catégorielle.",
   "id": "2146823a1bf9a0a1"
  },
  {
   "metadata": {
    "ExecuteTime": {
     "end_time": "2025-03-26T05:20:00.700607Z",
     "start_time": "2025-03-26T05:20:00.598866Z"
    }
   },
   "cell_type": "code",
   "source": [
    "print(categorical_cols)\n",
    "salaries_ds = pd.get_dummies(salaries_ds, columns=categorical_cols)\n",
    "print(salaries_ds.head())"
   ],
   "id": "b03029c3cf88b17a",
   "outputs": [
    {
     "name": "stdout",
     "output_type": "stream",
     "text": [
      "Index(['experience_level', 'employment_type', 'job_title', 'salary_currency',\n",
      "       'employee_residence', 'company_location', 'company_size'],\n",
      "      dtype='object')\n",
      "   work_year    salary  salary_in_usd  remote_ratio  experience_level_EN  \\\n",
      "0     2025.0   57000.0        60000.0          50.0                False   \n",
      "1     2025.0  165000.0       165000.0           0.0                False   \n",
      "2     2025.0  109000.0       109000.0           0.0                False   \n",
      "3     2025.0  294000.0       294000.0           0.0                False   \n",
      "4     2025.0  137600.0       137600.0           0.0                False   \n",
      "\n",
      "   experience_level_EX  experience_level_MI  experience_level_SE  \\\n",
      "0                False                 True                False   \n",
      "1                False                False                 True   \n",
      "2                False                False                 True   \n",
      "3                False                False                 True   \n",
      "4                False                False                 True   \n",
      "\n",
      "   employment_type_CT  employment_type_FL  ...  company_location_UA  \\\n",
      "0               False               False  ...                False   \n",
      "1               False               False  ...                False   \n",
      "2               False               False  ...                False   \n",
      "3               False               False  ...                False   \n",
      "4               False               False  ...                False   \n",
      "\n",
      "   company_location_US  company_location_VE  company_location_VN  \\\n",
      "0                False                False                False   \n",
      "1                 True                False                False   \n",
      "2                 True                False                False   \n",
      "3                 True                False                False   \n",
      "4                 True                False                False   \n",
      "\n",
      "   company_location_XK  company_location_ZA  company_location_ZM  \\\n",
      "0                False                False                False   \n",
      "1                False                False                False   \n",
      "2                False                False                False   \n",
      "3                False                False                False   \n",
      "4                False                False                False   \n",
      "\n",
      "   company_size_L  company_size_M  company_size_S  \n",
      "0            True           False           False  \n",
      "1           False            True           False  \n",
      "2           False            True           False  \n",
      "3           False            True           False  \n",
      "4           False            True           False  \n",
      "\n",
      "[5 rows x 516 columns]\n"
     ]
    }
   ],
   "execution_count": 20
  },
  {
   "metadata": {},
   "cell_type": "markdown",
   "source": "18. Normalisez une colonne numérique entre 0 et 1.",
   "id": "86813b3168bfb278"
  },
  {
   "metadata": {
    "ExecuteTime": {
     "end_time": "2025-03-26T05:20:00.761473Z",
     "start_time": "2025-03-26T05:20:00.749705Z"
    }
   },
   "cell_type": "code",
   "source": [
    "scaler = MinMaxScaler()\n",
    "salaries_ds['salary'] = scaler.fit_transform(salaries_ds[['salary']])\n",
    "print(salaries_ds['salary'])"
   ],
   "id": "2eb189173e9239f",
   "outputs": [
    {
     "name": "stdout",
     "output_type": "stream",
     "text": [
      "0        0.133706\n",
      "1        0.469527\n",
      "2        0.295398\n",
      "3        0.870647\n",
      "4        0.384328\n",
      "           ...   \n",
      "88577    0.031095\n",
      "88578    0.469527\n",
      "88580    0.425995\n",
      "88581    0.282960\n",
      "88582    0.267413\n",
      "Name: salary, Length: 43124, dtype: float64\n"
     ]
    }
   ],
   "execution_count": 21
  },
  {
   "metadata": {},
   "cell_type": "markdown",
   "source": "19. Créez une nouvelle colonne indiquant si une personne est majeure ou non (basé sur une",
   "id": "58072aaf98db83e6"
  },
  {
   "metadata": {
    "ExecuteTime": {
     "end_time": "2025-03-26T05:20:00.839488Z",
     "start_time": "2025-03-26T05:20:00.829867Z"
    }
   },
   "cell_type": "code",
   "source": [
    "# Je vais utiliser la colonne experience_level_EN pour déterminer si une personne est majeure ou non, n'ayant pas d'information sur l'âge des personnes.\n",
    "salaries_ds['is_adult'] = salaries_ds['experience_level_EN'] == False\n",
    "print(salaries_ds['is_adult'].sample(10))"
   ],
   "id": "c6cda6d6a35913ee",
   "outputs": [
    {
     "name": "stdout",
     "output_type": "stream",
     "text": [
      "29687    True\n",
      "87536    True\n",
      "11714    True\n",
      "5098     True\n",
      "6950     True\n",
      "7310     True\n",
      "42789    True\n",
      "17290    True\n",
      "25855    True\n",
      "29959    True\n",
      "Name: is_adult, dtype: bool\n"
     ]
    }
   ],
   "execution_count": 22
  },
  {
   "metadata": {},
   "cell_type": "markdown",
   "source": "20. Catégorisez une colonne continue en intervalles (ex : âge en jeunes/adultes/seniors).",
   "id": "d8b2aa15cccb983"
  },
  {
   "metadata": {
    "ExecuteTime": {
     "end_time": "2025-03-26T05:20:00.955468Z",
     "start_time": "2025-03-26T05:20:00.939551Z"
    }
   },
   "cell_type": "code",
   "source": [
    "salaries_ds['salary_in_usd_category'] = pd.cut(salaries_ds['salary_in_usd'], bins=3, labels=['low', 'medium', 'high'])\n",
    "print(salaries_ds[['salary_in_usd_category', 'salary_in_usd']].sample(10))"
   ],
   "id": "451ba6cf880a57e",
   "outputs": [
    {
     "name": "stdout",
     "output_type": "stream",
     "text": [
      "      salary_in_usd_category  salary_in_usd\n",
      "1490                     low       125000.0\n",
      "15017                    low       116800.0\n",
      "1780                  medium       160000.0\n",
      "26708                 medium       172500.0\n",
      "8693                  medium       262000.0\n",
      "25960                 medium       220700.0\n",
      "87209                 medium       172200.0\n",
      "22786                    low       140000.0\n",
      "11494                    low       123283.0\n",
      "43022                    low        48000.0\n"
     ]
    }
   ],
   "execution_count": 23
  },
  {
   "metadata": {},
   "cell_type": "markdown",
   "source": "21. Créez une variable binaire indiquant si une personne a un salaire supérieur à la médiane.",
   "id": "7b37579776db03bc"
  },
  {
   "metadata": {
    "ExecuteTime": {
     "end_time": "2025-03-26T05:20:01.063301Z",
     "start_time": "2025-03-26T05:20:01.053097Z"
    }
   },
   "cell_type": "code",
   "source": [
    "salaries_ds['salary_above_median'] = salaries_ds['salary'] > salaries_ds['salary'].median()\n",
    "print(salaries_ds['salary_above_median'].sample(10))"
   ],
   "id": "e67617a865b32edf",
   "outputs": [
    {
     "name": "stdout",
     "output_type": "stream",
     "text": [
      "86334     True\n",
      "24787    False\n",
      "41757     True\n",
      "73278    False\n",
      "24017     True\n",
      "48120     True\n",
      "5364      True\n",
      "7918     False\n",
      "3172     False\n",
      "72525     True\n",
      "Name: salary_above_median, dtype: bool\n"
     ]
    }
   ],
   "execution_count": 24
  }
 ],
 "metadata": {
  "kernelspec": {
   "display_name": "Python 3",
   "language": "python",
   "name": "python3"
  },
  "language_info": {
   "codemirror_mode": {
    "name": "ipython",
    "version": 2
   },
   "file_extension": ".py",
   "mimetype": "text/x-python",
   "name": "python",
   "nbconvert_exporter": "python",
   "pygments_lexer": "ipython2",
   "version": "2.7.6"
  }
 },
 "nbformat": 4,
 "nbformat_minor": 5
}
